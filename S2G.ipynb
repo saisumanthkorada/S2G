{
  "nbformat": 4,
  "nbformat_minor": 0,
  "metadata": {
    "colab": {
      "provenance": [],
      "authorship_tag": "ABX9TyONzCjdf1WS1af9o+Lat82I",
      "include_colab_link": true
    },
    "kernelspec": {
      "name": "python3",
      "display_name": "Python 3"
    },
    "language_info": {
      "name": "python"
    }
  },
  "cells": [
    {
      "cell_type": "markdown",
      "metadata": {
        "id": "view-in-github",
        "colab_type": "text"
      },
      "source": [
        "<a href=\"https://colab.research.google.com/github/saisumanthkorada/S2G/blob/main/S2G.ipynb\" target=\"_parent\"><img src=\"https://colab.research.google.com/assets/colab-badge.svg\" alt=\"Open In Colab\"/></a>"
      ]
    },
    {
      "cell_type": "code",
      "execution_count": 1,
      "metadata": {
        "colab": {
          "base_uri": "https://localhost:8080/"
        },
        "id": "cp5By8CcuWka",
        "outputId": "6b578fd9-1c9e-4fe4-9c02-fd492e8dd5cd"
      },
      "outputs": [
        {
          "output_type": "stream",
          "name": "stdout",
          "text": [
            "Requirement already satisfied: pyspark in /usr/local/lib/python3.11/dist-packages (3.5.1)\n",
            "Requirement already satisfied: py4j==0.10.9.7 in /usr/local/lib/python3.11/dist-packages (from pyspark) (0.10.9.7)\n",
            "Requirement already satisfied: openpyxl in /usr/local/lib/python3.11/dist-packages (3.1.5)\n",
            "Requirement already satisfied: et-xmlfile in /usr/local/lib/python3.11/dist-packages (from openpyxl) (2.0.0)\n"
          ]
        }
      ],
      "source": [
        "!pip install pyspark\n",
        "!pip install openpyxl\n"
      ]
    },
    {
      "cell_type": "code",
      "source": [
        "from google.colab import drive\n",
        "drive.mount('/content/drive')"
      ],
      "metadata": {
        "colab": {
          "base_uri": "https://localhost:8080/"
        },
        "id": "GcFsLC4ug0xG",
        "outputId": "f13acfb5-81d3-4140-ab3e-266b05004c3d"
      },
      "execution_count": 2,
      "outputs": [
        {
          "output_type": "stream",
          "name": "stdout",
          "text": [
            "Mounted at /content/drive\n"
          ]
        }
      ]
    },
    {
      "cell_type": "code",
      "source": [
        "from pyspark.sql import SparkSession, functions as F\n",
        "from pyspark.sql.functions import split, col,length,right,expr,regexp_extract,regexp_replace,trim,explode,first,lit\n",
        "from pyspark.sql.types import StructType, StructField, StringType, IntegerType, FloatType"
      ],
      "metadata": {
        "id": "CuQZkoq5g6h-"
      },
      "execution_count": 3,
      "outputs": []
    },
    {
      "cell_type": "code",
      "source": [
        "spark = SparkSession.builder.getOrCreate()"
      ],
      "metadata": {
        "id": "ORcCMyBMg-15"
      },
      "execution_count": 4,
      "outputs": []
    },
    {
      "cell_type": "code",
      "source": [
        "movies_explodedB2S = spark.read.format('csv')\\\n",
        ".option('header','True')\\\n",
        ".option('Inferschema','True')\\\n",
        ".load('/content/drive/MyDrive/Silver_Layer/movies_exploded.csv')"
      ],
      "metadata": {
        "id": "Vq8XELJuhDQL"
      },
      "execution_count": 6,
      "outputs": []
    },
    {
      "cell_type": "code",
      "source": [
        "movies_explodedB2S.show()"
      ],
      "metadata": {
        "colab": {
          "base_uri": "https://localhost:8080/"
        },
        "id": "4zBSuSKZiMVx",
        "outputId": "3d26e487-625d-409e-a9ac-2ddcc779285b"
      },
      "execution_count": 7,
      "outputs": [
        {
          "output_type": "stream",
          "name": "stdout",
          "text": [
            "+-------+--------------------+---------+----+\n",
            "|movieId|               title|  generes|year|\n",
            "+-------+--------------------+---------+----+\n",
            "|      1|           Toy Story|Adventure|1995|\n",
            "|      1|           Toy Story|Animation|1995|\n",
            "|      1|           Toy Story| Children|1995|\n",
            "|      1|           Toy Story|   Comedy|1995|\n",
            "|      1|           Toy Story|  Fantasy|1995|\n",
            "|      2|             Jumanji|Adventure|1995|\n",
            "|      2|             Jumanji| Children|1995|\n",
            "|      2|             Jumanji|  Fantasy|1995|\n",
            "|      3|    Grumpier Old Men|   Comedy|1995|\n",
            "|      3|    Grumpier Old Men|  Romance|1995|\n",
            "|      4|   Waiting to Exhale|   Comedy|1995|\n",
            "|      4|   Waiting to Exhale|    Drama|1995|\n",
            "|      4|   Waiting to Exhale|  Romance|1995|\n",
            "|      5|Father of the Bri...|   Comedy|1995|\n",
            "|      6|                Heat|   Action|1995|\n",
            "|      6|                Heat|    Crime|1995|\n",
            "|      6|                Heat| Thriller|1995|\n",
            "|      7|             Sabrina|   Comedy|1995|\n",
            "|      7|             Sabrina|  Romance|1995|\n",
            "|      8|        Tom and Huck|Adventure|1995|\n",
            "+-------+--------------------+---------+----+\n",
            "only showing top 20 rows\n",
            "\n"
          ]
        }
      ]
    },
    {
      "cell_type": "code",
      "source": [
        "RatingsB2S = spark.read.format('csv')\\\n",
        ".option('header','True')\\\n",
        ".option('Inferschema','True')\\\n",
        ".load('/content/drive/MyDrive/Silver_Layer/ratings_transformed.csv')"
      ],
      "metadata": {
        "id": "x_J5VUQgiSMO"
      },
      "execution_count": 8,
      "outputs": []
    },
    {
      "cell_type": "code",
      "source": [
        "RatingsB2S.show()"
      ],
      "metadata": {
        "colab": {
          "base_uri": "https://localhost:8080/"
        },
        "id": "tVAwpRrCWfJr",
        "outputId": "dda31144-3a93-4248-e905-e8cb151ad98e"
      },
      "execution_count": 9,
      "outputs": [
        {
          "output_type": "stream",
          "name": "stdout",
          "text": [
            "+-------+--------+------+----------+--------------------+\n",
            "|user_id|movie_id|rating|      date|          movie_name|\n",
            "+-------+--------+------+----------+--------------------+\n",
            "|      1|       1|   4.0|2008-52-03|           Toy Story|\n",
            "|      1|     110|   4.0|2008-04-05|          Braveheart|\n",
            "|      1|     158|   4.0|2008-31-03|              Casper|\n",
            "|      1|     260|   4.5|2008-00-03|Star Wars: Episod...|\n",
            "|      1|     356|   5.0|2008-58-03|        Forrest Gump|\n",
            "|      1|     381|   3.5|2008-41-03|When a Man Loves ...|\n",
            "|      1|     596|   4.0|2008-32-03|           Pinocchio|\n",
            "|      1|    1036|   5.0|2008-07-03|            Die Hard|\n",
            "|      1|    1049|   3.0|2008-41-03|Ghost and the Dar...|\n",
            "|      1|    1066|   4.0|2008-29-03|      Shall We Dance|\n",
            "|      1|    1196|   3.5|2008-04-03|Star Wars: Episod...|\n",
            "|      1|    1200|   3.5|2008-11-03|              Aliens|\n",
            "|      1|    1210|   4.5|2008-00-03|Star Wars: Episod...|\n",
            "|      1|    1214|   4.0|2008-20-03|               Alien|\n",
            "|      1|    1291|   5.0|2008-53-03|Indiana Jones and...|\n",
            "|      1|    1293|   2.0|2008-37-03|              Gandhi|\n",
            "|      1|    1376|   3.0|2008-32-03|Star Trek IV: The...|\n",
            "|      1|    1396|   3.0|2008-32-03|            Sneakers|\n",
            "|      1|    1537|   4.0|2008-24-03|Shall We Dance? (...|\n",
            "|      1|    1909|   3.0|2008-35-03|X-Files: Fight th...|\n",
            "+-------+--------+------+----------+--------------------+\n",
            "only showing top 20 rows\n",
            "\n"
          ]
        }
      ]
    },
    {
      "cell_type": "code",
      "source": [
        "RatingsB2S = RatingsB2S.withColumnRenamed(\"movie_id\",\"movieId\")\n",
        "RatingsB2S = RatingsB2S.withColumnRenamed(\"date\",\"date_rated\")\n",
        "movies_explodedB2S = movies_explodedB2S.withColumnRenamed(\"year\",\"releaseyear\")"
      ],
      "metadata": {
        "id": "Qg8wmz8nWj7v"
      },
      "execution_count": 10,
      "outputs": []
    },
    {
      "cell_type": "code",
      "source": [
        "from IPython.display import Markdown, display"
      ],
      "metadata": {
        "id": "lLTZFNyEA7Ev"
      },
      "execution_count": 11,
      "outputs": []
    },
    {
      "cell_type": "code",
      "source": [
        "display(Markdown(\"##Regular way of calculating averages\"))"
      ],
      "metadata": {
        "colab": {
          "base_uri": "https://localhost:8080/",
          "height": 64
        },
        "id": "ve4BjUDDA-da",
        "outputId": "8ebbcdec-c5d6-48ab-b053-5327e0456356"
      },
      "execution_count": 12,
      "outputs": [
        {
          "output_type": "display_data",
          "data": {
            "text/plain": [
              "<IPython.core.display.Markdown object>"
            ],
            "text/markdown": "##Regular way of calculating averages"
          },
          "metadata": {}
        }
      ]
    },
    {
      "cell_type": "code",
      "source": [
        "from pyspark.sql.functions import col, avg,count,round,lit,rank\n",
        "\n",
        "joined_table = movies_explodedB2S\\\n",
        "    .join(RatingsB2S, on=\"movieId\", how=\"left\")\\\n",
        "    .groupBy( \"generes\")\\\n",
        "    .agg(round(avg(\"rating\"),2).alias(\"average_rating\"),count(\"user_id\").alias(\"Number of users\"))\\\n",
        "    .orderBy(col(\"average_rating\"),col(\"Number of users\"), ascending=False)\n"
      ],
      "metadata": {
        "id": "sfXKzhvjW6DI"
      },
      "execution_count": 28,
      "outputs": []
    },
    {
      "cell_type": "code",
      "source": [
        "joined_table.show()"
      ],
      "metadata": {
        "colab": {
          "base_uri": "https://localhost:8080/"
        },
        "id": "E2n4FcFUbwUq",
        "outputId": "92a0d0e4-0112-4415-b3d7-9dc5f150cd96"
      },
      "execution_count": 14,
      "outputs": [
        {
          "output_type": "stream",
          "name": "stdout",
          "text": [
            "+------------------+--------------+---------------+\n",
            "|           generes|average_rating|Number of users|\n",
            "+------------------+--------------+---------------+\n",
            "|         Film-Noir|          3.92|         318917|\n",
            "|               War|           3.8|        1697649|\n",
            "|             Crime|           3.7|        5688582|\n",
            "|             Drama|          3.69|       14787040|\n",
            "|       Documentary|          3.69|         441100|\n",
            "|           Mystery|          3.67|        2748373|\n",
            "|         Animation|          3.62|        2329566|\n",
            "|              IMAX|          3.61|        1560106|\n",
            "|           Western|           3.6|         632052|\n",
            "|           Romance|          3.55|        5874531|\n",
            "|           Musical|          3.55|        1239223|\n",
            "|          Thriller|          3.53|        9168628|\n",
            "|         Adventure|          3.53|        8048929|\n",
            "|           Fantasy|          3.51|        3899930|\n",
            "|            Sci-Fi|          3.49|        6032230|\n",
            "|            Action|          3.48|       10222144|\n",
            "|          Children|          3.44|        2897960|\n",
            "|            Comedy|          3.43|       11860140|\n",
            "|(no genres listed)|          3.37|          56059|\n",
            "|            Horror|          3.31|        2610188|\n",
            "+------------------+--------------+---------------+\n",
            "only showing top 20 rows\n",
            "\n"
          ]
        }
      ]
    },
    {
      "cell_type": "code",
      "source": [
        "display(Markdown(\"#IMDB way of calculating\"))"
      ],
      "metadata": {
        "colab": {
          "base_uri": "https://localhost:8080/",
          "height": 74
        },
        "id": "NS4hfhsCcJ5H",
        "outputId": "f42526eb-46fb-47ec-8e5d-169e8ae8b61a"
      },
      "execution_count": 15,
      "outputs": [
        {
          "output_type": "display_data",
          "data": {
            "text/plain": [
              "<IPython.core.display.Markdown object>"
            ],
            "text/markdown": "#IMDB way of calculating"
          },
          "metadata": {}
        }
      ]
    },
    {
      "cell_type": "code",
      "source": [
        "total_average = RatingsB2S.agg(round(avg(\"rating\"),2)).first()[0]"
      ],
      "metadata": {
        "id": "pUUteNoBBSQB"
      },
      "execution_count": 16,
      "outputs": []
    },
    {
      "cell_type": "code",
      "source": [
        "print(total_average)"
      ],
      "metadata": {
        "colab": {
          "base_uri": "https://localhost:8080/"
        },
        "id": "B-5tsEQVBmAW",
        "outputId": "6ac0de48-d722-4217-c53c-40313c110045"
      },
      "execution_count": 36,
      "outputs": [
        {
          "output_type": "stream",
          "name": "stdout",
          "text": [
            "3.54\n"
          ]
        }
      ]
    },
    {
      "cell_type": "code",
      "source": [
        "##lets take minimum ratings\n",
        "m = 100000"
      ],
      "metadata": {
        "id": "-7cyx_usC0gm"
      },
      "execution_count": 17,
      "outputs": []
    },
    {
      "cell_type": "code",
      "source": [
        "IMDB_TABLE = movies_explodedB2S\\\n",
        "             .join(RatingsB2S, on=\"movieId\", how=\"left\")\\\n",
        "             .groupBy(\"generes\")\\\n",
        "             .agg(round(avg(\"rating\"),2).alias(\"average_rating\"),count(\"user_id\").alias(\"Number of users\"))\\\n",
        "             .withColumn(\"IMDB_RATING\",round(((col(\"Number of users\")/(col(\"Number of users\")+lit(m)))*col(\"average_rating\"))+((lit(m)/(col(\"Number of users\")+lit(m))))*lit(total_average),2))\\\n",
        "             .orderBy(col(\"IMDB_RATING\"),col(\"Number of users\"), ascending = False)\n",
        ""
      ],
      "metadata": {
        "id": "axeC_BVSCMsu"
      },
      "execution_count": 18,
      "outputs": []
    },
    {
      "cell_type": "code",
      "source": [
        "IMDB_TABLE.show(2)"
      ],
      "metadata": {
        "colab": {
          "base_uri": "https://localhost:8080/"
        },
        "id": "Q62vHc7WE1h3",
        "outputId": "280aaad2-a6ee-42a1-acba-3f23a347db88"
      },
      "execution_count": 19,
      "outputs": [
        {
          "output_type": "stream",
          "name": "stdout",
          "text": [
            "+---------+--------------+---------------+-----------+\n",
            "|  generes|average_rating|Number of users|IMDB_RATING|\n",
            "+---------+--------------+---------------+-----------+\n",
            "|Film-Noir|          3.92|         318917|       3.83|\n",
            "|      War|           3.8|        1697649|       3.79|\n",
            "+---------+--------------+---------------+-----------+\n",
            "only showing top 2 rows\n",
            "\n"
          ]
        }
      ]
    },
    {
      "cell_type": "code",
      "source": [
        "from pyspark.sql.window import Window\n",
        "window_spec = Window.orderBy(col(\"Number of users\").desc())"
      ],
      "metadata": {
        "id": "N3rJmKzHEG78"
      },
      "execution_count": 33,
      "outputs": []
    },
    {
      "cell_type": "code",
      "source": [
        "Second_most_v_genre = IMDB_TABLE.withColumn(\"rank\",rank().over(window_spec)).filter(col(\"rank\")==2)"
      ],
      "metadata": {
        "id": "yNa_fZcWIsDu"
      },
      "execution_count": 35,
      "outputs": []
    },
    {
      "cell_type": "code",
      "source": [
        "Second_most_v_genre.show()"
      ],
      "metadata": {
        "colab": {
          "base_uri": "https://localhost:8080/"
        },
        "id": "i49fdDl0J20v",
        "outputId": "4947f076-433a-4091-85fc-0c5c4d55b993"
      },
      "execution_count": 36,
      "outputs": [
        {
          "output_type": "stream",
          "name": "stdout",
          "text": [
            "+-------+--------------+---------------+-----------+----+\n",
            "|generes|average_rating|Number of users|IMDB_RATING|rank|\n",
            "+-------+--------------+---------------+-----------+----+\n",
            "| Comedy|          3.43|       11860140|       3.43|   2|\n",
            "+-------+--------------+---------------+-----------+----+\n",
            "\n"
          ]
        }
      ]
    },
    {
      "cell_type": "code",
      "source": [
        "print(f'gener : {Second_most_v_genre.first()[\"generes\"]} , user_viewed: {Second_most_v_genre.first()[\"Number of users\"]}')"
      ],
      "metadata": {
        "colab": {
          "base_uri": "https://localhost:8080/"
        },
        "id": "4zJVeKIrKA_s",
        "outputId": "90a5291c-3ee2-4d88-e904-218cb76d2962"
      },
      "execution_count": 38,
      "outputs": [
        {
          "output_type": "stream",
          "name": "stdout",
          "text": [
            "gener : Comedy , user_viewed: 11860140\n"
          ]
        }
      ]
    }
  ]
}