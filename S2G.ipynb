{
  "nbformat": 4,
  "nbformat_minor": 0,
  "metadata": {
    "colab": {
      "provenance": [],
      "authorship_tag": "ABX9TyPf/gE+WcCx9IvV36E8CrFP",
      "include_colab_link": true
    },
    "kernelspec": {
      "name": "python3",
      "display_name": "Python 3"
    },
    "language_info": {
      "name": "python"
    }
  },
  "cells": [
    {
      "cell_type": "markdown",
      "metadata": {
        "id": "view-in-github",
        "colab_type": "text"
      },
      "source": [
        "<a href=\"https://colab.research.google.com/github/saisumanthkorada/S2G/blob/main/S2G.ipynb\" target=\"_parent\"><img src=\"https://colab.research.google.com/assets/colab-badge.svg\" alt=\"Open In Colab\"/></a>"
      ]
    },
    {
      "cell_type": "code",
      "execution_count": 1,
      "metadata": {
        "colab": {
          "base_uri": "https://localhost:8080/"
        },
        "id": "cp5By8CcuWka",
        "outputId": "bae88324-e378-4849-e037-5dafa4d35f87"
      },
      "outputs": [
        {
          "output_type": "stream",
          "name": "stdout",
          "text": [
            "Requirement already satisfied: pyspark in /usr/local/lib/python3.11/dist-packages (3.5.1)\n",
            "Requirement already satisfied: py4j==0.10.9.7 in /usr/local/lib/python3.11/dist-packages (from pyspark) (0.10.9.7)\n",
            "Requirement already satisfied: openpyxl in /usr/local/lib/python3.11/dist-packages (3.1.5)\n",
            "Requirement already satisfied: et-xmlfile in /usr/local/lib/python3.11/dist-packages (from openpyxl) (2.0.0)\n"
          ]
        }
      ],
      "source": [
        "!pip install pyspark\n",
        "!pip install openpyxl\n"
      ]
    },
    {
      "cell_type": "code",
      "source": [
        "from google.colab import drive\n",
        "drive.mount('/content/drive')"
      ],
      "metadata": {
        "colab": {
          "base_uri": "https://localhost:8080/"
        },
        "id": "GcFsLC4ug0xG",
        "outputId": "05ed129c-1a77-4eb2-9690-be1a01f00a4a"
      },
      "execution_count": 2,
      "outputs": [
        {
          "output_type": "stream",
          "name": "stdout",
          "text": [
            "Mounted at /content/drive\n"
          ]
        }
      ]
    },
    {
      "cell_type": "code",
      "source": [
        "from pyspark.sql import SparkSession, functions as F\n",
        "from pyspark.sql.functions import split, col,length,right,expr,regexp_extract,regexp_replace,trim,explode,first,lit\n",
        "from pyspark.sql.types import StructType, StructField, StringType, IntegerType, FloatType"
      ],
      "metadata": {
        "id": "CuQZkoq5g6h-"
      },
      "execution_count": 3,
      "outputs": []
    },
    {
      "cell_type": "code",
      "source": [
        "spark = SparkSession.builder.getOrCreate()"
      ],
      "metadata": {
        "id": "ORcCMyBMg-15"
      },
      "execution_count": 4,
      "outputs": []
    },
    {
      "cell_type": "code",
      "source": [
        "movies_explodedB2S = spark.read.format('csv')\\\n",
        ".option('header','True')\\\n",
        ".option('Inferschema','True')\\\n",
        ".load('/content/drive/MyDrive/Silver_Layer/movies_exploded.csv')"
      ],
      "metadata": {
        "id": "Vq8XELJuhDQL"
      },
      "execution_count": 5,
      "outputs": []
    },
    {
      "cell_type": "code",
      "source": [
        "movies_explodedB2S.show()"
      ],
      "metadata": {
        "colab": {
          "base_uri": "https://localhost:8080/"
        },
        "id": "4zBSuSKZiMVx",
        "outputId": "c982f92d-cab6-4717-afd1-a3bb45e14446"
      },
      "execution_count": 6,
      "outputs": [
        {
          "output_type": "stream",
          "name": "stdout",
          "text": [
            "+-------+--------------------+---------+----+\n",
            "|movieId|               title|  generes|year|\n",
            "+-------+--------------------+---------+----+\n",
            "|      1|           Toy Story|Adventure|1995|\n",
            "|      1|           Toy Story|Animation|1995|\n",
            "|      1|           Toy Story| Children|1995|\n",
            "|      1|           Toy Story|   Comedy|1995|\n",
            "|      1|           Toy Story|  Fantasy|1995|\n",
            "|      2|             Jumanji|Adventure|1995|\n",
            "|      2|             Jumanji| Children|1995|\n",
            "|      2|             Jumanji|  Fantasy|1995|\n",
            "|      3|    Grumpier Old Men|   Comedy|1995|\n",
            "|      3|    Grumpier Old Men|  Romance|1995|\n",
            "|      4|   Waiting to Exhale|   Comedy|1995|\n",
            "|      4|   Waiting to Exhale|    Drama|1995|\n",
            "|      4|   Waiting to Exhale|  Romance|1995|\n",
            "|      5|Father of the Bri...|   Comedy|1995|\n",
            "|      6|                Heat|   Action|1995|\n",
            "|      6|                Heat|    Crime|1995|\n",
            "|      6|                Heat| Thriller|1995|\n",
            "|      7|             Sabrina|   Comedy|1995|\n",
            "|      7|             Sabrina|  Romance|1995|\n",
            "|      8|        Tom and Huck|Adventure|1995|\n",
            "+-------+--------------------+---------+----+\n",
            "only showing top 20 rows\n",
            "\n"
          ]
        }
      ]
    },
    {
      "cell_type": "code",
      "source": [
        "RatingsB2S = spark.read.format('csv')\\\n",
        ".option('header','True')\\\n",
        ".option('Inferschema','True')\\\n",
        ".load('/content/drive/MyDrive/Silver_Layer/ratings_transformed.csv')"
      ],
      "metadata": {
        "id": "x_J5VUQgiSMO"
      },
      "execution_count": 7,
      "outputs": []
    },
    {
      "cell_type": "code",
      "source": [
        "RatingsB2S.show()"
      ],
      "metadata": {
        "colab": {
          "base_uri": "https://localhost:8080/"
        },
        "id": "tVAwpRrCWfJr",
        "outputId": "8a44c74f-b4a5-4bc9-8f2c-e68cac2e038b"
      },
      "execution_count": 9,
      "outputs": [
        {
          "output_type": "stream",
          "name": "stdout",
          "text": [
            "+-------+--------+------+----------+--------------------+\n",
            "|user_id|movie_id|rating|      date|          movie_name|\n",
            "+-------+--------+------+----------+--------------------+\n",
            "|      1|       1|   4.0|2008-52-03|           Toy Story|\n",
            "|      1|     110|   4.0|2008-04-05|          Braveheart|\n",
            "|      1|     158|   4.0|2008-31-03|              Casper|\n",
            "|      1|     260|   4.5|2008-00-03|Star Wars: Episod...|\n",
            "|      1|     356|   5.0|2008-58-03|        Forrest Gump|\n",
            "|      1|     381|   3.5|2008-41-03|When a Man Loves ...|\n",
            "|      1|     596|   4.0|2008-32-03|           Pinocchio|\n",
            "|      1|    1036|   5.0|2008-07-03|            Die Hard|\n",
            "|      1|    1049|   3.0|2008-41-03|Ghost and the Dar...|\n",
            "|      1|    1066|   4.0|2008-29-03|      Shall We Dance|\n",
            "|      1|    1196|   3.5|2008-04-03|Star Wars: Episod...|\n",
            "|      1|    1200|   3.5|2008-11-03|              Aliens|\n",
            "|      1|    1210|   4.5|2008-00-03|Star Wars: Episod...|\n",
            "|      1|    1214|   4.0|2008-20-03|               Alien|\n",
            "|      1|    1291|   5.0|2008-53-03|Indiana Jones and...|\n",
            "|      1|    1293|   2.0|2008-37-03|              Gandhi|\n",
            "|      1|    1376|   3.0|2008-32-03|Star Trek IV: The...|\n",
            "|      1|    1396|   3.0|2008-32-03|            Sneakers|\n",
            "|      1|    1537|   4.0|2008-24-03|Shall We Dance? (...|\n",
            "|      1|    1909|   3.0|2008-35-03|X-Files: Fight th...|\n",
            "+-------+--------+------+----------+--------------------+\n",
            "only showing top 20 rows\n",
            "\n"
          ]
        }
      ]
    },
    {
      "cell_type": "code",
      "source": [
        "RatingsB2S = RatingsB2S.withColumnRenamed(\"movie_id\",\"movieId\")\n",
        "RatingsB2S = RatingsB2S.withColumnRenamed(\"date\",\"date_rated\")\n",
        "movies_explodedB2S = movies_explodedB2S.withColumnRenamed(\"year\",\"releaseyear\")"
      ],
      "metadata": {
        "id": "Qg8wmz8nWj7v"
      },
      "execution_count": 10,
      "outputs": []
    },
    {
      "cell_type": "code",
      "source": [
        "from pyspark.sql.functions import col, avg,count,round\n",
        "\n",
        "joined_table = movies_explodedB2S\\\n",
        "    .join(RatingsB2S, on=\"movieId\", how=\"left\")\\\n",
        "    .groupBy( \"generes\")\\\n",
        "    .agg(round(avg(\"rating\"),2).alias(\"average_rating\"),count(\"user_id\").alias(\"Number of users\"))\\\n",
        "    .orderBy(col(\"average_rating\"),col(\"Number of users\"), ascending=False)\n"
      ],
      "metadata": {
        "id": "sfXKzhvjW6DI"
      },
      "execution_count": 26,
      "outputs": []
    },
    {
      "cell_type": "code",
      "source": [
        "joined_table.show()"
      ],
      "metadata": {
        "colab": {
          "base_uri": "https://localhost:8080/"
        },
        "id": "E2n4FcFUbwUq",
        "outputId": "92bff3b4-3c15-47f5-b05f-820ca8200646"
      },
      "execution_count": 27,
      "outputs": [
        {
          "output_type": "stream",
          "name": "stdout",
          "text": [
            "+---------+--------------+---------------+\n",
            "|  generes|average_rating|Number of users|\n",
            "+---------+--------------+---------------+\n",
            "|Film-Noir|          3.92|         318917|\n",
            "|      War|           3.8|        1697649|\n",
            "+---------+--------------+---------------+\n",
            "only showing top 2 rows\n",
            "\n"
          ]
        }
      ]
    },
    {
      "cell_type": "code",
      "source": [],
      "metadata": {
        "id": "NS4hfhsCcJ5H"
      },
      "execution_count": null,
      "outputs": []
    }
  ]
}